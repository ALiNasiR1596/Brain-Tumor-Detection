{
 "cells": [
  {
   "cell_type": "code",
   "execution_count": null,
   "metadata": {
    "colab": {},
    "colab_type": "code",
    "id": "LBg1J9oSaTZs"
   },
   "outputs": [],
   "source": [
    "import tensorflow as tf\n",
    "#import tf.keras.preprocessing.image.ImageDataGenerator\n",
    "import cv2\n",
    "import imutils\n",
    "import matplotlib.pyplot as plt\n",
    "from os import listdir\n",
    "import time\n",
    "\n",
    "%matplotlib inline"
   ]
  },
  {
   "cell_type": "code",
   "execution_count": null,
   "metadata": {
    "colab": {},
    "colab_type": "code",
    "id": "-8rECrC2tSAq"
   },
   "outputs": [],
   "source": [
    "from google.colab import drive"
   ]
  },
  {
   "cell_type": "code",
   "execution_count": null,
   "metadata": {
    "colab": {
     "base_uri": "https://localhost:8080/",
     "height": 124
    },
    "colab_type": "code",
    "id": "qwvmA2cyta0i",
    "outputId": "5bc89dd9-19e7-4380-a57a-7df5aa37ca1f"
   },
   "outputs": [
    {
     "name": "stdout",
     "output_type": "stream",
     "text": [
      "Go to this URL in a browser: https://accounts.google.com/o/oauth2/auth?client_id=947318989803-6bn6qk8qdgf4n4g3pfee6491hc0brc4i.apps.googleusercontent.com&redirect_uri=urn%3aietf%3awg%3aoauth%3a2.0%3aoob&response_type=code&scope=email%20https%3a%2f%2fwww.googleapis.com%2fauth%2fdocs.test%20https%3a%2f%2fwww.googleapis.com%2fauth%2fdrive%20https%3a%2f%2fwww.googleapis.com%2fauth%2fdrive.photos.readonly%20https%3a%2f%2fwww.googleapis.com%2fauth%2fpeopleapi.readonly\n",
      "\n",
      "Enter your authorization code:\n",
      "··········\n",
      "Mounted at /content/gdrive\n"
     ]
    }
   ],
   "source": [
    "drive.mount(\"/content/gdrive\")"
   ]
  },
  {
   "cell_type": "code",
   "execution_count": null,
   "metadata": {
    "colab": {},
    "colab_type": "code",
    "id": "Hsi1yHBors2l"
   },
   "outputs": [],
   "source": [
    "#nicely formatted time string\n",
    "def  hms_string(sec_elapsed):\n",
    "  h=int(sec_elapsed/(60*60))\n",
    "  m=int((sec_elapsed%(60*60))/60)\n",
    "  s=sec_elapsed%60\n",
    "  return f\"{h}:{m}:{round(s,1)}\""
   ]
  },
  {
   "cell_type": "code",
   "execution_count": null,
   "metadata": {
    "colab": {
     "base_uri": "https://localhost:8080/",
     "height": 34
    },
    "colab_type": "code",
    "id": "T8adOIWdszTJ",
    "outputId": "0f05f7a8-d873-47d9-c7f7-ab7db5ac9e99"
   },
   "outputs": [
    {
     "name": "stdout",
     "output_type": "stream",
     "text": [
      "no  yes\n"
     ]
    }
   ],
   "source": [
    "!ls ./gdrive/My\\ Drive/brain_tumor_dataset"
   ]
  },
  {
   "cell_type": "code",
   "execution_count": null,
   "metadata": {
    "colab": {
     "base_uri": "https://localhost:8080/",
     "height": 34
    },
    "colab_type": "code",
    "id": "WDT-C3ACzwMx",
    "outputId": "d3e012f7-380a-4eb5-c8f2-4016e354c886"
   },
   "outputs": [
    {
     "data": {
      "text/plain": [
       "['yes', 'no']"
      ]
     },
     "execution_count": 6,
     "metadata": {
      "tags": []
     },
     "output_type": "execute_result"
    }
   ],
   "source": [
    "listdir(\"/content/gdrive/My Drive/brain_tumor_dataset\")"
   ]
  },
  {
   "cell_type": "code",
   "execution_count": null,
   "metadata": {
    "colab": {},
    "colab_type": "code",
    "id": "KmvlMhHNs4rn"
   },
   "outputs": [],
   "source": [
    "def augument_data(file_dir, n_generated_samples,save_to_dir):\n",
    "  \"\"\"\n",
    "    Arguments:\n",
    "        file_dir: A string representing the directory where images that we want to augment are found.\n",
    "        n_generated_samples: A string representing the number of generated samples using the given image.\n",
    "        save_to_dir: A string representing the directory in which the generated images will be saved.\n",
    "  \"\"\"\n",
    "  data_gen=tf.keras.preprocessing.image.ImageDataGenerator(rotation_range=10, width_shift_range=0.1, height_shift_range=0.1, shear_range=0.1, brightness_range=(0.3, 1.0),horizontal_flip=True, vertical_flip=True, fill_mode='nearest')\n",
    "  for file_name in listdir(file_dir):\n",
    "    image=cv2.imread(file_dir+\"/\"+file_name)\n",
    "    image = image.reshape((1,)+image.shape)\n",
    "    save_prefix='aug_'+file_name[:-4]\n",
    "    i=0\n",
    "    for batch in data_gen.flow(x=image, batch_size=1,save_to_dir=save_to_dir,save_prefix=save_prefix,save_format=\".jpg\"):\n",
    "      i=i+1\n",
    "      if i>n_generated_samples:\n",
    "        break;\n"
   ]
  },
  {
   "cell_type": "code",
   "execution_count": null,
   "metadata": {
    "colab": {
     "base_uri": "https://localhost:8080/",
     "height": 34
    },
    "colab_type": "code",
    "id": "4QAYq3OEFyJB",
    "outputId": "2d702925-bdad-4a42-f1b7-7c83209f3def"
   },
   "outputs": [
    {
     "name": "stdout",
     "output_type": "stream",
     "text": [
      "time_elapsed : 0:3:7.9\n"
     ]
    }
   ],
   "source": [
    "start_time=time.time()\n",
    "augument_data_path=\"/content/gdrive/My Drive/augumented_data\"\n",
    "augument_data(file_dir=\"/content/gdrive/My Drive/brain_tumor_dataset/yes\", n_generated_samples=6,save_to_dir=augument_data_path+\"/\"+\"yes\")\n",
    "augument_data(file_dir=\"/content/gdrive/My Drive/brain_tumor_dataset/no\", n_generated_samples=9,save_to_dir=augument_data_path+\"/\"+\"no\")\n",
    "\n",
    "end_time=time.time()\n",
    "execution_time=(end_time-start_time)\n",
    "print(f\"time_elapsed : {hms_string(execution_time)}\")"
   ]
  },
  {
   "cell_type": "code",
   "execution_count": null,
   "metadata": {
    "colab": {},
    "colab_type": "code",
    "id": "xB26wMxxV0BN"
   },
   "outputs": [],
   "source": [
    "yes_path=augument_data_path+'/yes'\n",
    "no_path=augument_data_path+'/no'\n",
    "m_pos = len(listdir(yes_path))\n",
    "m_neg = len(listdir(no_path))\n",
    "m=m_pos+m_neg\n",
    "post_percentage = ((m_pos*100)/m)\n",
    "nega_percentage = ((m_neg*100)/m)"
   ]
  },
  {
   "cell_type": "code",
   "execution_count": null,
   "metadata": {
    "colab": {},
    "colab_type": "code",
    "id": "9g0-8EuANHG1"
   },
   "outputs": [],
   "source": [
    "def data_summary(main_path):\n",
    "\n",
    "  print(f\"Number of examples: {m}\")\n",
    "  print(f\"Percentage of positive examples: {post_percentage}%, number of pos examples: {m_postive}\") \n",
    "  print(f\"Percentage of negative examples: {nega_percentage}%, number of neg examples: {m_negative}\")"
   ]
  },
  {
   "cell_type": "code",
   "execution_count": null,
   "metadata": {
    "colab": {
     "base_uri": "https://localhost:8080/",
     "height": 67
    },
    "colab_type": "code",
    "id": "Tw1lYL3TVbuY",
    "outputId": "30a98a11-0243-4554-8555-bea60582f874"
   },
   "outputs": [
    {
     "name": "stdout",
     "output_type": "stream",
     "text": [
      "Number of examples: 2065\n",
      "Percentage of positive examples: 52.54237288135593%, number of pos examples: 1085\n",
      "Percentage of negative examples: 47.45762711864407%, number of neg examples: 980\n"
     ]
    }
   ],
   "source": [
    "data_summary(\"/content/gdrive/My Drive/augumented_data\")"
   ]
  },
  {
   "cell_type": "code",
   "execution_count": null,
   "metadata": {
    "colab": {},
    "colab_type": "code",
    "id": "XSiaABZfVf0R"
   },
   "outputs": [],
   "source": []
  }
 ],
 "metadata": {
  "colab": {
   "authorship_tag": "ABX9TyNVUgqws1fu6Mlhf4Y0ph3J",
   "include_colab_link": true,
   "mount_file_id": "1rm2toDPpSxJA2tYgl5llLmsUycdVeN2W",
   "name": "Dataset_Augmentation.ipynb",
   "provenance": []
  },
  "kernelspec": {
   "display_name": "Python 3 (ipykernel)",
   "language": "python",
   "name": "python3"
  },
  "language_info": {
   "codemirror_mode": {
    "name": "ipython",
    "version": 3
   },
   "file_extension": ".py",
   "mimetype": "text/x-python",
   "name": "python",
   "nbconvert_exporter": "python",
   "pygments_lexer": "ipython3",
   "version": "3.9.7"
  }
 },
 "nbformat": 4,
 "nbformat_minor": 1
}
